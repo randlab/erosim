{
 "cells": [
  {
   "cell_type": "code",
   "execution_count": 1,
   "metadata": {},
   "outputs": [],
   "source": [
    "import numpy as np\n",
    "from matplotlib import colors\n",
    "import matplotlib.pyplot as plt\n",
    "import geone\n",
    "import geone.covModel as gcm\n",
    "import geone.imgplot3d as imgplt3\n",
    "import geone.geosclassicinterface as gci\n",
    "import pyvista as pv\n",
    "import sys\n",
    "import scipy\n",
    "from skimage.measure import label  # for connectivity\n",
    "\n",
    "import shapely\n",
    "from shapely.geometry import Polygon, LineString, MultiPolygon, MultiLineString\n",
    "import rasterio\n",
    "import rasterio.features\n",
    "from rasterio import Affine\n",
    "\n",
    "import EROS\n",
    "\n",
    "%load_ext autoreload\n",
    "%autoreload 2"
   ]
  },
  {
   "cell_type": "code",
   "execution_count": 3,
   "metadata": {},
   "outputs": [],
   "source": [
    "\n",
    "def plot_bhs(w_logs, z0, plotter=None, v_ex=1):\n",
    "\n",
    "    \"\"\"\n",
    "    Plot boreholes in w_logs\n",
    "\n",
    "    #parameters#\n",
    "    w_logs   : string, which log to plot --> strati or facies\n",
    "    plotter: pyvista plotter\n",
    "    v_ex  : float, vertical exaggeration\n",
    "    \"\"\"\n",
    "\n",
    "    def lines_from_points(points):\n",
    "        \"\"\"Given an array of points, make a line set\"\"\"\n",
    "        poly=pv.PolyData()\n",
    "        poly.points=points\n",
    "        cells=np.full((len(points)-1, 3), 2, dtype=np.int_)\n",
    "        cells[:, 1]=np.arange(0, len(points)-1, dtype=np.int_)\n",
    "        cells[:, 2]=np.arange(1, len(points), dtype=np.int_)\n",
    "        poly.lines=cells\n",
    "        return poly\n",
    "\n",
    "    if plotter is None:\n",
    "        p=pv.Plotter()\n",
    "    else:\n",
    "        p=plotter\n",
    "\n",
    "    for bh in w_logs:\n",
    "        for i in range(len(bh[3])):\n",
    "\n",
    "            l=[]\n",
    "            st=bh[3][i][0]\n",
    "            l.append(bh[3][i][1])\n",
    "            if i < len(bh[3])-1:\n",
    "                l.append(bh[3][i+1][1])\n",
    "\n",
    "            if i == len(bh[3])-1:\n",
    "                l.append(bh[3][0][1]-bh[2])\n",
    "            pts=np.array([np.ones([len(l)])*bh[0], np.ones([len(l)])*bh[1], l]).T\n",
    "           \n",
    "            line=lines_from_points(pts)\n",
    "            line.points[:, -1]=(line.points[:, -1] - z0)*v_ex+z0\n",
    "            if st is not None:\n",
    "                np.random.seed(st+24)\n",
    "                color=np.random.random(size=3)\n",
    "                opacity=1\n",
    "            else:\n",
    "                color=\"white\"\n",
    "                opacity=0\n",
    "            p.add_mesh(line, color=color, interpolate_before_map=True, render_lines_as_tubes=True, line_width=15, opacity=opacity)\n",
    "\n",
    "    if plotter is None:\n",
    "        p.add_bounding_box()\n",
    "        p.show_axes()\n",
    "        p.show()"
   ]
  },
  {
   "cell_type": "code",
   "execution_count": 31,
   "metadata": {},
   "outputs": [],
   "source": [
    "nx = 150\n",
    "ny = 150\n",
    "nz = 50\n",
    "dim = (nx, ny, nz)\n",
    "sx = 1.5\n",
    "sy = 1.5\n",
    "sz = 0.5\n",
    "spa = (sx, sy, sz)\n",
    "ox = 0\n",
    "oy = 0\n",
    "oz = 0\n",
    "origin = (ox, oy, oz)\n",
    "z1 = oz+nz*sz+sz\n",
    "bot = np.ones((ny, nx))*oz\n",
    "top = np.ones((ny, nx))*z1\n",
    "\n",
    "N_surf = 70\n",
    "xi = 0.2\n",
    "\n",
    "xgc = np.linspace(ox+sx/2, ox+sx*nx-sx/2, nx)\n",
    "ygc = np.linspace(oy+sy/2, oy+sy*ny-sy/2, ny)\n",
    "zg = np.linspace(oz, oz+nz*sz+sz, nz)\n",
    "means = np.sort(np.random.uniform(zg[0]-5, zg[-1]+5, size = N_surf))\n",
    "\n",
    "\n",
    "cm = gcm.CovModel2D(elem=[(\"matern\", {\"w\":20, \"r\":[40, 100], \"nu\":2/2})], alpha=42)\n",
    "cm2 = gcm.CovModel2D(elem=[(\"spherical\", {\"w\":20, \"r\":[400, 100]})], alpha=45)\n",
    "cm_erod = gcm.CovModel2D(elem=[(\"cubic\", {\"w\":10, \"r\":[300, 350]})], alpha=40)"
   ]
  },
  {
   "cell_type": "code",
   "execution_count": 23,
   "metadata": {},
   "outputs": [],
   "source": [
    "# w_logs\n",
    "w_logs = [(13, 20, 15, [(1, 25), (2, 20), (3, 17), (1, 15)]),\n",
    " (25, 40, 10, [(2, 25), (1, 21), (3, 18)]),\n",
    " (125, 50, 11, [(2, 25), (1, 21), (3, 16)]),\n",
    " (100, 150, 7.5, [(2, 25), (1, 23)]),\n",
    " (70, 90, 7.5, [(4, 10), (3, 5)])]"
   ]
  },
  {
   "cell_type": "code",
   "execution_count": 6,
   "metadata": {},
   "outputs": [
    {
     "data": {
      "application/vnd.jupyter.widget-view+json": {
       "model_id": "a2df16ca35974e5ea455f4c147a6d8d5",
       "version_major": 2,
       "version_minor": 0
      },
      "text/plain": [
       "Widget(value=\"<iframe src='http://localhost:64794/index.html?ui=P_0x22df2de5f10_0&reconnect=auto' style='width…"
      ]
     },
     "metadata": {},
     "output_type": "display_data"
    }
   ],
   "source": [
    "plot_bhs(w_logs, 0)"
   ]
  },
  {
   "cell_type": "code",
   "execution_count": 24,
   "metadata": {},
   "outputs": [],
   "source": [
    "import EROS"
   ]
  },
  {
   "cell_type": "code",
   "execution_count": 32,
   "metadata": {},
   "outputs": [],
   "source": [
    "# inputs for the function\n",
    "bot = None\n",
    "top = None\n",
    "covmodels=cm\n",
    "N = 60\n",
    "seed = 15\n",
    "means_surf = np.sort(np.random.uniform(zg[0]-5, zg[-1]+5, size = N))"
   ]
  },
  {
   "cell_type": "code",
   "execution_count": 33,
   "metadata": {
    "scrolled": true
   },
   "outputs": [
    {
     "name": "stdout",
     "output_type": "stream",
     "text": [
      "CPU times: total: 1min 53s\n",
      "Wall time: 9.74 s\n"
     ]
    }
   ],
   "source": [
    "%%time\n",
    "res = EROS.sim_cond_3D(N, cm, means_surf, dim, spa, origin, w_logs, covmodels_erod=None, seed=15, verbose=0)"
   ]
  },
  {
   "cell_type": "code",
   "execution_count": 34,
   "metadata": {},
   "outputs": [],
   "source": [
    "arr_final = res[0]\n",
    "real_surf = res[1]"
   ]
  },
  {
   "cell_type": "code",
   "execution_count": 35,
   "metadata": {},
   "outputs": [],
   "source": [
    "arr_final = arr_final.astype(float)\n",
    "arr_final[arr_final==0]=np.nan\n",
    "\n",
    "colors = []\n",
    "for ifa in np.unique(arr_final):\n",
    "    if ifa==ifa:\n",
    "        np.random.seed(int(ifa)+24)\n",
    "        colors.append(np.random.random(size=3))"
   ]
  },
  {
   "cell_type": "code",
   "execution_count": 36,
   "metadata": {},
   "outputs": [
    {
     "name": "stderr",
     "output_type": "stream",
     "text": [
      "c:\\Users\\emmal\\Anaconda3\\envs\\bebou\\Lib\\site-packages\\pyvista\\core\\grid.py:873: PyVistaDeprecationWarning: `UniformGrid` is deprecated. Use `ImageData` instead.\n",
      "  warnings.warn(\n"
     ]
    },
    {
     "data": {
      "application/vnd.jupyter.widget-view+json": {
       "model_id": "de9152b785d64d0a9701ad6f7533724b",
       "version_major": 2,
       "version_minor": 0
      },
      "text/plain": [
       "Widget(value=\"<iframe src='http://localhost:64794/index.html?ui=P_0x22d80f34550_4&reconnect=auto' style='width…"
      ]
     },
     "metadata": {},
     "output_type": "display_data"
    }
   ],
   "source": [
    "p = pv.Plotter()\n",
    "im=geone.img.Img(nx, ny, nz, sx, sy, sz, ox, oy, oz, nv=1, val=arr_final, varname=\"Units\")\n",
    "\n",
    "slice_x = [i[0] for i in w_logs[:2]]\n",
    "slice_y = [i[1] for i in w_logs[2:]]\n",
    "imgplt3.drawImage3D_slice(im, categ=True, categCol=colors, plotter=p, slice_normal_x=slice_x, slice_normal_y=slice_y)\n",
    "# imgplt3.drawImage3D_surface(im, plotter=p, custom_colors=colors, custom_scalar_bar_for_equidistant_categories=True)\n",
    "plot_bhs(w_logs, 0, plotter=p)\n",
    "\n",
    "for iy in slice_y:\n",
    "    iy = int(np.round((iy - oy)/sy))\n",
    "    for ilay in real_surf:\n",
    "        l = []\n",
    "        for ix in range(nx):\n",
    "            xc = xgc[ix]\n",
    "            l.append((xgc[ix], ygc[iy], ilay[iy, ix]))\n",
    "        p.add_lines(np.array(l), color=\"k\", width=2, connected=True)\n",
    "\n",
    "for ix in slice_x:\n",
    "    ix = int(np.round((ix - ox)/sx))\n",
    "    for ilay in real_surf:\n",
    "        l = []\n",
    "        for iy in range(ny):\n",
    "            yc = ygc[iy]\n",
    "            l.append((xgc[ix], ygc[iy], ilay[iy, ix]))\n",
    "        p.add_lines(np.array(l), color=\"k\", width=2, connected=True)      \n",
    "\n",
    "p.show()"
   ]
  },
  {
   "cell_type": "code",
   "execution_count": 37,
   "metadata": {},
   "outputs": [
    {
     "data": {
      "text/plain": [
       "(array([0.84912593, 0.        , 0.        , 0.84080593, 0.        ,\n",
       "        0.        , 0.89885333, 0.        , 0.        , 0.74454815]),\n",
       " array([1. , 1.3, 1.6, 1.9, 2.2, 2.5, 2.8, 3.1, 3.4, 3.7, 4. ]),\n",
       " <BarContainer object of 10 artists>)"
      ]
     },
     "execution_count": 37,
     "metadata": {},
     "output_type": "execute_result"
    },
    {
     "data": {
      "image/png": "[encoded data removed]",
      "text/plain": [
       "<Figure size 640x480 with 1 Axes>"
      ]
     },
     "metadata": {},
     "output_type": "display_data"
    }
   ],
   "source": [
    "plt.hist(arr_final.flatten(), density=1)"
   ]
  }
 ],
 "metadata": {
  "kernelspec": {
   "display_name": "Python 3 (ipykernel)",
   "language": "python",
   "name": "python3"
  },
  "language_info": {
   "codemirror_mode": {
    "name": "ipython",
    "version": 3
   },
   "file_extension": ".py",
   "mimetype": "text/x-python",
   "name": "python",
   "nbconvert_exporter": "python",
   "pygments_lexer": "ipython3",
   "version": "3.11.4"
  }
 },
 "nbformat": 4,
 "nbformat_minor": 2
}
